{
 "cells": [
  {
   "cell_type": "code",
   "execution_count": 40,
   "id": "d7f4f2c1-0061-44b8-8c24-7f94081d6c90",
   "metadata": {},
   "outputs": [],
   "source": [
    "import pandas as pd\n",
    "from sklearn.preprocessing import StandardScaler\n",
    "from sklearn.cluster import KMeans\n",
    "import matplotlib.pyplot as plt\n",
    "import seaborn as sns"
   ]
  },
  {
   "cell_type": "code",
   "execution_count": 42,
   "id": "cd0d0ec3-4047-4f58-aa6f-26d428964b68",
   "metadata": {},
   "outputs": [],
   "source": [
    "file_path = r\"Shopping Mall Customer Segmentation Data .csv\"\n",
    "df = pd.read_csv(file_path)"
   ]
  },
  {
   "cell_type": "code",
   "execution_count": 44,
   "id": "0e54a385-69b3-46f3-b96e-0ecf9a42e2c1",
   "metadata": {},
   "outputs": [
    {
     "name": "stdout",
     "output_type": "stream",
     "text": [
      "Dataset Info:\n",
      "<class 'pandas.core.frame.DataFrame'>\n",
      "RangeIndex: 15079 entries, 0 to 15078\n",
      "Data columns (total 5 columns):\n",
      " #   Column          Non-Null Count  Dtype \n",
      "---  ------          --------------  ----- \n",
      " 0   Customer ID     15079 non-null  object\n",
      " 1   Age             15079 non-null  int64 \n",
      " 2   Gender          15079 non-null  object\n",
      " 3   Annual Income   15079 non-null  int64 \n",
      " 4   Spending Score  15079 non-null  int64 \n",
      "dtypes: int64(3), object(2)\n",
      "memory usage: 589.2+ KB\n"
     ]
    },
    {
     "data": {
      "text/plain": [
       "None"
      ]
     },
     "metadata": {},
     "output_type": "display_data"
    }
   ],
   "source": [
    "print(\"Dataset Info:\")\n",
    "display(df.info())"
   ]
  },
  {
   "cell_type": "code",
   "execution_count": 46,
   "id": "15c43870-b341-476b-8e2a-5c0f57dddefa",
   "metadata": {},
   "outputs": [
    {
     "name": "stdout",
     "output_type": "stream",
     "text": [
      "\n",
      "First Few Rows of the Dataset:\n"
     ]
    },
    {
     "data": {
      "text/html": [
       "<div>\n",
       "<style scoped>\n",
       "    .dataframe tbody tr th:only-of-type {\n",
       "        vertical-align: middle;\n",
       "    }\n",
       "\n",
       "    .dataframe tbody tr th {\n",
       "        vertical-align: top;\n",
       "    }\n",
       "\n",
       "    .dataframe thead th {\n",
       "        text-align: right;\n",
       "    }\n",
       "</style>\n",
       "<table border=\"1\" class=\"dataframe\">\n",
       "  <thead>\n",
       "    <tr style=\"text-align: right;\">\n",
       "      <th></th>\n",
       "      <th>Customer ID</th>\n",
       "      <th>Age</th>\n",
       "      <th>Gender</th>\n",
       "      <th>Annual Income</th>\n",
       "      <th>Spending Score</th>\n",
       "    </tr>\n",
       "  </thead>\n",
       "  <tbody>\n",
       "    <tr>\n",
       "      <th>0</th>\n",
       "      <td>d410ea53-6661-42a9-ad3a-f554b05fd2a7</td>\n",
       "      <td>30</td>\n",
       "      <td>Male</td>\n",
       "      <td>151479</td>\n",
       "      <td>89</td>\n",
       "    </tr>\n",
       "    <tr>\n",
       "      <th>1</th>\n",
       "      <td>1770b26f-493f-46b6-837f-4237fb5a314e</td>\n",
       "      <td>58</td>\n",
       "      <td>Female</td>\n",
       "      <td>185088</td>\n",
       "      <td>95</td>\n",
       "    </tr>\n",
       "    <tr>\n",
       "      <th>2</th>\n",
       "      <td>e81aa8eb-1767-4b77-87ce-1620dc732c5e</td>\n",
       "      <td>62</td>\n",
       "      <td>Female</td>\n",
       "      <td>70912</td>\n",
       "      <td>76</td>\n",
       "    </tr>\n",
       "    <tr>\n",
       "      <th>3</th>\n",
       "      <td>9795712a-ad19-47bf-8886-4f997d6046e3</td>\n",
       "      <td>23</td>\n",
       "      <td>Male</td>\n",
       "      <td>55460</td>\n",
       "      <td>57</td>\n",
       "    </tr>\n",
       "    <tr>\n",
       "      <th>4</th>\n",
       "      <td>64139426-2226-4cd6-bf09-91bce4b4db5e</td>\n",
       "      <td>24</td>\n",
       "      <td>Male</td>\n",
       "      <td>153752</td>\n",
       "      <td>76</td>\n",
       "    </tr>\n",
       "  </tbody>\n",
       "</table>\n",
       "</div>"
      ],
      "text/plain": [
       "                            Customer ID  Age  Gender  Annual Income  \\\n",
       "0  d410ea53-6661-42a9-ad3a-f554b05fd2a7   30    Male         151479   \n",
       "1  1770b26f-493f-46b6-837f-4237fb5a314e   58  Female         185088   \n",
       "2  e81aa8eb-1767-4b77-87ce-1620dc732c5e   62  Female          70912   \n",
       "3  9795712a-ad19-47bf-8886-4f997d6046e3   23    Male          55460   \n",
       "4  64139426-2226-4cd6-bf09-91bce4b4db5e   24    Male         153752   \n",
       "\n",
       "   Spending Score  \n",
       "0              89  \n",
       "1              95  \n",
       "2              76  \n",
       "3              57  \n",
       "4              76  "
      ]
     },
     "metadata": {},
     "output_type": "display_data"
    }
   ],
   "source": [
    "print(\"\\nFirst Few Rows of the Dataset:\")\n",
    "display(df.head())"
   ]
  },
  {
   "cell_type": "code",
   "execution_count": 34,
   "id": "ab9ab9bc-3228-4c03-80a5-e1b089344b4b",
   "metadata": {},
   "outputs": [
    {
     "name": "stdout",
     "output_type": "stream",
     "text": [
      "Descriptive Statistics:\n",
      "                Age  Annual Income  Spending Score       Cluster\n",
      "count  15079.000000   15079.000000    15079.000000  15079.000000\n",
      "mean      54.191591  109742.880562       50.591617      1.054712\n",
      "std       21.119207   52249.425866       28.726977      0.832339\n",
      "min       18.000000   20022.000000        1.000000      0.000000\n",
      "25%       36.000000   64141.000000       26.000000      0.000000\n",
      "50%       54.000000  109190.000000       51.000000      1.000000\n",
      "75%       72.000000  155008.000000       75.000000      2.000000\n",
      "max       90.000000  199974.000000      100.000000      2.000000\n"
     ]
    }
   ],
   "source": [
    "print(\"Descriptive Statistics:\")\n",
    "print(df.describe())"
   ]
  },
  {
   "cell_type": "code",
   "execution_count": 48,
   "id": "cc9bfc77-9366-4fcf-a69a-e78317805c2e",
   "metadata": {},
   "outputs": [
    {
     "name": "stdout",
     "output_type": "stream",
     "text": [
      "\n",
      "Missing Values in the Dataset:\n"
     ]
    },
    {
     "data": {
      "text/plain": [
       "Customer ID       0\n",
       "Age               0\n",
       "Gender            0\n",
       "Annual Income     0\n",
       "Spending Score    0\n",
       "dtype: int64"
      ]
     },
     "metadata": {},
     "output_type": "display_data"
    }
   ],
   "source": [
    "print(\"\\nMissing Values in the Dataset:\")\n",
    "display(df.isnull().sum())"
   ]
  },
  {
   "cell_type": "code",
   "execution_count": 50,
   "id": "8968b2ec-426a-4dc4-b8f7-6b939065b1db",
   "metadata": {},
   "outputs": [
    {
     "name": "stdout",
     "output_type": "stream",
     "text": [
      "\n",
      "Descriptive Statistics of the Dataset:\n"
     ]
    },
    {
     "data": {
      "text/html": [
       "<div>\n",
       "<style scoped>\n",
       "    .dataframe tbody tr th:only-of-type {\n",
       "        vertical-align: middle;\n",
       "    }\n",
       "\n",
       "    .dataframe tbody tr th {\n",
       "        vertical-align: top;\n",
       "    }\n",
       "\n",
       "    .dataframe thead th {\n",
       "        text-align: right;\n",
       "    }\n",
       "</style>\n",
       "<table border=\"1\" class=\"dataframe\">\n",
       "  <thead>\n",
       "    <tr style=\"text-align: right;\">\n",
       "      <th></th>\n",
       "      <th>Age</th>\n",
       "      <th>Annual Income</th>\n",
       "      <th>Spending Score</th>\n",
       "    </tr>\n",
       "  </thead>\n",
       "  <tbody>\n",
       "    <tr>\n",
       "      <th>count</th>\n",
       "      <td>15079.000000</td>\n",
       "      <td>15079.000000</td>\n",
       "      <td>15079.000000</td>\n",
       "    </tr>\n",
       "    <tr>\n",
       "      <th>mean</th>\n",
       "      <td>54.191591</td>\n",
       "      <td>109742.880562</td>\n",
       "      <td>50.591617</td>\n",
       "    </tr>\n",
       "    <tr>\n",
       "      <th>std</th>\n",
       "      <td>21.119207</td>\n",
       "      <td>52249.425866</td>\n",
       "      <td>28.726977</td>\n",
       "    </tr>\n",
       "    <tr>\n",
       "      <th>min</th>\n",
       "      <td>18.000000</td>\n",
       "      <td>20022.000000</td>\n",
       "      <td>1.000000</td>\n",
       "    </tr>\n",
       "    <tr>\n",
       "      <th>25%</th>\n",
       "      <td>36.000000</td>\n",
       "      <td>64141.000000</td>\n",
       "      <td>26.000000</td>\n",
       "    </tr>\n",
       "    <tr>\n",
       "      <th>50%</th>\n",
       "      <td>54.000000</td>\n",
       "      <td>109190.000000</td>\n",
       "      <td>51.000000</td>\n",
       "    </tr>\n",
       "    <tr>\n",
       "      <th>75%</th>\n",
       "      <td>72.000000</td>\n",
       "      <td>155008.000000</td>\n",
       "      <td>75.000000</td>\n",
       "    </tr>\n",
       "    <tr>\n",
       "      <th>max</th>\n",
       "      <td>90.000000</td>\n",
       "      <td>199974.000000</td>\n",
       "      <td>100.000000</td>\n",
       "    </tr>\n",
       "  </tbody>\n",
       "</table>\n",
       "</div>"
      ],
      "text/plain": [
       "                Age  Annual Income  Spending Score\n",
       "count  15079.000000   15079.000000    15079.000000\n",
       "mean      54.191591  109742.880562       50.591617\n",
       "std       21.119207   52249.425866       28.726977\n",
       "min       18.000000   20022.000000        1.000000\n",
       "25%       36.000000   64141.000000       26.000000\n",
       "50%       54.000000  109190.000000       51.000000\n",
       "75%       72.000000  155008.000000       75.000000\n",
       "max       90.000000  199974.000000      100.000000"
      ]
     },
     "metadata": {},
     "output_type": "display_data"
    }
   ],
   "source": [
    "print(\"\\nDescriptive Statistics of the Dataset:\")\n",
    "display(df.describe())"
   ]
  },
  {
   "cell_type": "code",
   "execution_count": 52,
   "id": "b370519f-ec3d-4742-a0d7-75a244b3f768",
   "metadata": {},
   "outputs": [],
   "source": [
    "features = ['Annual Income', 'Spending Score']"
   ]
  },
  {
   "cell_type": "code",
   "execution_count": 66,
   "id": "203b1998-e791-48e8-a19a-e4205098cfa2",
   "metadata": {},
   "outputs": [],
   "source": [
    "scaler = StandardScaler()\n",
    "df_scaled = scaler.fit_transform(df[features])"
   ]
  },
  {
   "cell_type": "code",
   "execution_count": 68,
   "id": "3c0be175-b614-48e3-92e2-8788b22fd86e",
   "metadata": {},
   "outputs": [],
   "source": [
    "kmeans = KMeans(n_clusters=3, random_state=42)\n",
    "df['Cluster'] = kmeans.fit_predict(df_scaled)"
   ]
  },
  {
   "cell_type": "code",
   "execution_count": 70,
   "id": "05de3dbd-7dc1-4681-b6e9-a4cd192be7a5",
   "metadata": {},
   "outputs": [
    {
     "name": "stdout",
     "output_type": "stream",
     "text": [
      "\n",
      "Cluster Assignments:\n"
     ]
    },
    {
     "data": {
      "text/html": [
       "<div>\n",
       "<style scoped>\n",
       "    .dataframe tbody tr th:only-of-type {\n",
       "        vertical-align: middle;\n",
       "    }\n",
       "\n",
       "    .dataframe tbody tr th {\n",
       "        vertical-align: top;\n",
       "    }\n",
       "\n",
       "    .dataframe thead th {\n",
       "        text-align: right;\n",
       "    }\n",
       "</style>\n",
       "<table border=\"1\" class=\"dataframe\">\n",
       "  <thead>\n",
       "    <tr style=\"text-align: right;\">\n",
       "      <th></th>\n",
       "      <th>Annual Income</th>\n",
       "      <th>Spending Score</th>\n",
       "      <th>Cluster</th>\n",
       "    </tr>\n",
       "  </thead>\n",
       "  <tbody>\n",
       "    <tr>\n",
       "      <th>0</th>\n",
       "      <td>151479</td>\n",
       "      <td>89</td>\n",
       "      <td>2</td>\n",
       "    </tr>\n",
       "    <tr>\n",
       "      <th>1</th>\n",
       "      <td>185088</td>\n",
       "      <td>95</td>\n",
       "      <td>2</td>\n",
       "    </tr>\n",
       "    <tr>\n",
       "      <th>2</th>\n",
       "      <td>70912</td>\n",
       "      <td>76</td>\n",
       "      <td>1</td>\n",
       "    </tr>\n",
       "    <tr>\n",
       "      <th>3</th>\n",
       "      <td>55460</td>\n",
       "      <td>57</td>\n",
       "      <td>1</td>\n",
       "    </tr>\n",
       "    <tr>\n",
       "      <th>4</th>\n",
       "      <td>153752</td>\n",
       "      <td>76</td>\n",
       "      <td>2</td>\n",
       "    </tr>\n",
       "  </tbody>\n",
       "</table>\n",
       "</div>"
      ],
      "text/plain": [
       "   Annual Income  Spending Score  Cluster\n",
       "0         151479              89        2\n",
       "1         185088              95        2\n",
       "2          70912              76        1\n",
       "3          55460              57        1\n",
       "4         153752              76        2"
      ]
     },
     "metadata": {},
     "output_type": "display_data"
    }
   ],
   "source": [
    "print(\"\\nCluster Assignments:\")\n",
    "display(df[['Annual Income', 'Spending Score', 'Cluster']].head())"
   ]
  },
  {
   "cell_type": "code",
   "execution_count": 72,
   "id": "3b2ce80d-a3f2-41c2-bd0f-97dd5d2477b8",
   "metadata": {},
   "outputs": [
    {
     "data": {
      "image/png": "[encoded data removed]",
      "text/plain": [
       "<Figure size 800x600 with 1 Axes>"
      ]
     },
     "metadata": {},
     "output_type": "display_data"
    }
   ],
   "source": [
    "plt.figure(figsize=(8, 6))\n",
    "for cluster in range(3):\n",
    "    cluster_data = df[df['Cluster'] == cluster]\n",
    "    plt.scatter(\n",
    "        cluster_data['Annual Income'], \n",
    "        cluster_data['Spending Score'], \n",
    "        label=f'Cluster {cluster}'\n",
    "    )\n",
    "\n",
    "plt.title('Customer Segmentation Based on Annual Income and Spending Score')\n",
    "plt.xlabel('Annual Income')\n",
    "plt.ylabel('Spending Score')\n",
    "plt.legend()\n",
    "plt.show()"
   ]
  },
  {
   "cell_type": "code",
   "execution_count": 74,
   "id": "d22f5b98-3a6b-4cc4-bd87-6eb3e4e614c7",
   "metadata": {},
   "outputs": [
    {
     "data": {
      "image/png": "[encoded data removed]",
      "text/plain": [
       "<Figure size 640x480 with 1 Axes>"
      ]
     },
     "metadata": {},
     "output_type": "display_data"
    },
    {
     "name": "stdout",
     "output_type": "stream",
     "text": [
      "\n",
      "Cluster 0 Insights:\n"
     ]
    },
    {
     "data": {
      "text/html": [
       "<div>\n",
       "<style scoped>\n",
       "    .dataframe tbody tr th:only-of-type {\n",
       "        vertical-align: middle;\n",
       "    }\n",
       "\n",
       "    .dataframe tbody tr th {\n",
       "        vertical-align: top;\n",
       "    }\n",
       "\n",
       "    .dataframe thead th {\n",
       "        text-align: right;\n",
       "    }\n",
       "</style>\n",
       "<table border=\"1\" class=\"dataframe\">\n",
       "  <thead>\n",
       "    <tr style=\"text-align: right;\">\n",
       "      <th></th>\n",
       "      <th>Age</th>\n",
       "      <th>Annual Income</th>\n",
       "      <th>Spending Score</th>\n",
       "      <th>Cluster</th>\n",
       "    </tr>\n",
       "  </thead>\n",
       "  <tbody>\n",
       "    <tr>\n",
       "      <th>count</th>\n",
       "      <td>4833.000000</td>\n",
       "      <td>4833.000000</td>\n",
       "      <td>4833.000000</td>\n",
       "      <td>4833.0</td>\n",
       "    </tr>\n",
       "    <tr>\n",
       "      <th>mean</th>\n",
       "      <td>54.260915</td>\n",
       "      <td>79305.680737</td>\n",
       "      <td>23.366853</td>\n",
       "      <td>0.0</td>\n",
       "    </tr>\n",
       "    <tr>\n",
       "      <th>std</th>\n",
       "      <td>21.104488</td>\n",
       "      <td>35697.442686</td>\n",
       "      <td>14.052192</td>\n",
       "      <td>0.0</td>\n",
       "    </tr>\n",
       "    <tr>\n",
       "      <th>min</th>\n",
       "      <td>18.000000</td>\n",
       "      <td>20089.000000</td>\n",
       "      <td>1.000000</td>\n",
       "      <td>0.0</td>\n",
       "    </tr>\n",
       "    <tr>\n",
       "      <th>25%</th>\n",
       "      <td>36.000000</td>\n",
       "      <td>48723.000000</td>\n",
       "      <td>11.000000</td>\n",
       "      <td>0.0</td>\n",
       "    </tr>\n",
       "    <tr>\n",
       "      <th>50%</th>\n",
       "      <td>54.000000</td>\n",
       "      <td>78354.000000</td>\n",
       "      <td>23.000000</td>\n",
       "      <td>0.0</td>\n",
       "    </tr>\n",
       "    <tr>\n",
       "      <th>75%</th>\n",
       "      <td>73.000000</td>\n",
       "      <td>106506.000000</td>\n",
       "      <td>35.000000</td>\n",
       "      <td>0.0</td>\n",
       "    </tr>\n",
       "    <tr>\n",
       "      <th>max</th>\n",
       "      <td>90.000000</td>\n",
       "      <td>164115.000000</td>\n",
       "      <td>50.000000</td>\n",
       "      <td>0.0</td>\n",
       "    </tr>\n",
       "  </tbody>\n",
       "</table>\n",
       "</div>"
      ],
      "text/plain": [
       "               Age  Annual Income  Spending Score  Cluster\n",
       "count  4833.000000    4833.000000     4833.000000   4833.0\n",
       "mean     54.260915   79305.680737       23.366853      0.0\n",
       "std      21.104488   35697.442686       14.052192      0.0\n",
       "min      18.000000   20089.000000        1.000000      0.0\n",
       "25%      36.000000   48723.000000       11.000000      0.0\n",
       "50%      54.000000   78354.000000       23.000000      0.0\n",
       "75%      73.000000  106506.000000       35.000000      0.0\n",
       "max      90.000000  164115.000000       50.000000      0.0"
      ]
     },
     "metadata": {},
     "output_type": "display_data"
    },
    {
     "name": "stdout",
     "output_type": "stream",
     "text": [
      "\n",
      "Cluster 1 Insights:\n"
     ]
    },
    {
     "data": {
      "text/html": [
       "<div>\n",
       "<style scoped>\n",
       "    .dataframe tbody tr th:only-of-type {\n",
       "        vertical-align: middle;\n",
       "    }\n",
       "\n",
       "    .dataframe tbody tr th {\n",
       "        vertical-align: top;\n",
       "    }\n",
       "\n",
       "    .dataframe thead th {\n",
       "        text-align: right;\n",
       "    }\n",
       "</style>\n",
       "<table border=\"1\" class=\"dataframe\">\n",
       "  <thead>\n",
       "    <tr style=\"text-align: right;\">\n",
       "      <th></th>\n",
       "      <th>Age</th>\n",
       "      <th>Annual Income</th>\n",
       "      <th>Spending Score</th>\n",
       "      <th>Cluster</th>\n",
       "    </tr>\n",
       "  </thead>\n",
       "  <tbody>\n",
       "    <tr>\n",
       "      <th>count</th>\n",
       "      <td>4588.000000</td>\n",
       "      <td>4588.000000</td>\n",
       "      <td>4588.000000</td>\n",
       "      <td>4588.0</td>\n",
       "    </tr>\n",
       "    <tr>\n",
       "      <th>mean</th>\n",
       "      <td>53.955536</td>\n",
       "      <td>74044.661072</td>\n",
       "      <td>76.594813</td>\n",
       "      <td>1.0</td>\n",
       "    </tr>\n",
       "    <tr>\n",
       "      <th>std</th>\n",
       "      <td>21.013024</td>\n",
       "      <td>32481.020411</td>\n",
       "      <td>14.754704</td>\n",
       "      <td>0.0</td>\n",
       "    </tr>\n",
       "    <tr>\n",
       "      <th>min</th>\n",
       "      <td>18.000000</td>\n",
       "      <td>20022.000000</td>\n",
       "      <td>49.000000</td>\n",
       "      <td>1.0</td>\n",
       "    </tr>\n",
       "    <tr>\n",
       "      <th>25%</th>\n",
       "      <td>36.000000</td>\n",
       "      <td>46113.000000</td>\n",
       "      <td>64.000000</td>\n",
       "      <td>1.0</td>\n",
       "    </tr>\n",
       "    <tr>\n",
       "      <th>50%</th>\n",
       "      <td>54.000000</td>\n",
       "      <td>73582.000000</td>\n",
       "      <td>77.000000</td>\n",
       "      <td>1.0</td>\n",
       "    </tr>\n",
       "    <tr>\n",
       "      <th>75%</th>\n",
       "      <td>72.000000</td>\n",
       "      <td>99822.000000</td>\n",
       "      <td>90.000000</td>\n",
       "      <td>1.0</td>\n",
       "    </tr>\n",
       "    <tr>\n",
       "      <th>max</th>\n",
       "      <td>90.000000</td>\n",
       "      <td>149000.000000</td>\n",
       "      <td>100.000000</td>\n",
       "      <td>1.0</td>\n",
       "    </tr>\n",
       "  </tbody>\n",
       "</table>\n",
       "</div>"
      ],
      "text/plain": [
       "               Age  Annual Income  Spending Score  Cluster\n",
       "count  4588.000000    4588.000000     4588.000000   4588.0\n",
       "mean     53.955536   74044.661072       76.594813      1.0\n",
       "std      21.013024   32481.020411       14.754704      0.0\n",
       "min      18.000000   20022.000000       49.000000      1.0\n",
       "25%      36.000000   46113.000000       64.000000      1.0\n",
       "50%      54.000000   73582.000000       77.000000      1.0\n",
       "75%      72.000000   99822.000000       90.000000      1.0\n",
       "max      90.000000  149000.000000      100.000000      1.0"
      ]
     },
     "metadata": {},
     "output_type": "display_data"
    },
    {
     "name": "stdout",
     "output_type": "stream",
     "text": [
      "\n",
      "Cluster 2 Insights:\n"
     ]
    },
    {
     "data": {
      "text/html": [
       "<div>\n",
       "<style scoped>\n",
       "    .dataframe tbody tr th:only-of-type {\n",
       "        vertical-align: middle;\n",
       "    }\n",
       "\n",
       "    .dataframe tbody tr th {\n",
       "        vertical-align: top;\n",
       "    }\n",
       "\n",
       "    .dataframe thead th {\n",
       "        text-align: right;\n",
       "    }\n",
       "</style>\n",
       "<table border=\"1\" class=\"dataframe\">\n",
       "  <thead>\n",
       "    <tr style=\"text-align: right;\">\n",
       "      <th></th>\n",
       "      <th>Age</th>\n",
       "      <th>Annual Income</th>\n",
       "      <th>Spending Score</th>\n",
       "      <th>Cluster</th>\n",
       "    </tr>\n",
       "  </thead>\n",
       "  <tbody>\n",
       "    <tr>\n",
       "      <th>count</th>\n",
       "      <td>5658.000000</td>\n",
       "      <td>5658.000000</td>\n",
       "      <td>5658.000000</td>\n",
       "      <td>5658.0</td>\n",
       "    </tr>\n",
       "    <tr>\n",
       "      <th>mean</th>\n",
       "      <td>54.323789</td>\n",
       "      <td>164689.225168</td>\n",
       "      <td>52.761046</td>\n",
       "      <td>2.0</td>\n",
       "    </tr>\n",
       "    <tr>\n",
       "      <th>std</th>\n",
       "      <td>21.219572</td>\n",
       "      <td>22087.899753</td>\n",
       "      <td>25.846718</td>\n",
       "      <td>0.0</td>\n",
       "    </tr>\n",
       "    <tr>\n",
       "      <th>min</th>\n",
       "      <td>18.000000</td>\n",
       "      <td>108176.000000</td>\n",
       "      <td>1.000000</td>\n",
       "      <td>2.0</td>\n",
       "    </tr>\n",
       "    <tr>\n",
       "      <th>25%</th>\n",
       "      <td>36.000000</td>\n",
       "      <td>148413.750000</td>\n",
       "      <td>33.000000</td>\n",
       "      <td>2.0</td>\n",
       "    </tr>\n",
       "    <tr>\n",
       "      <th>50%</th>\n",
       "      <td>54.500000</td>\n",
       "      <td>167077.000000</td>\n",
       "      <td>53.000000</td>\n",
       "      <td>2.0</td>\n",
       "    </tr>\n",
       "    <tr>\n",
       "      <th>75%</th>\n",
       "      <td>73.000000</td>\n",
       "      <td>183226.000000</td>\n",
       "      <td>73.000000</td>\n",
       "      <td>2.0</td>\n",
       "    </tr>\n",
       "    <tr>\n",
       "      <th>max</th>\n",
       "      <td>90.000000</td>\n",
       "      <td>199974.000000</td>\n",
       "      <td>100.000000</td>\n",
       "      <td>2.0</td>\n",
       "    </tr>\n",
       "  </tbody>\n",
       "</table>\n",
       "</div>"
      ],
      "text/plain": [
       "               Age  Annual Income  Spending Score  Cluster\n",
       "count  5658.000000    5658.000000     5658.000000   5658.0\n",
       "mean     54.323789  164689.225168       52.761046      2.0\n",
       "std      21.219572   22087.899753       25.846718      0.0\n",
       "min      18.000000  108176.000000        1.000000      2.0\n",
       "25%      36.000000  148413.750000       33.000000      2.0\n",
       "50%      54.500000  167077.000000       53.000000      2.0\n",
       "75%      73.000000  183226.000000       73.000000      2.0\n",
       "max      90.000000  199974.000000      100.000000      2.0"
      ]
     },
     "metadata": {},
     "output_type": "display_data"
    }
   ],
   "source": [
    "sns.countplot(x='Cluster', data=df)\n",
    "plt.title('Cluster Distribution')\n",
    "plt.xlabel('Cluster')\n",
    "plt.ylabel('Number of Customers')\n",
    "plt.show()\n",
    "\n",
    "# Step 11: Analyze clusters\n",
    "for cluster in range(3):\n",
    "    cluster_data = df[df['Cluster'] == cluster]\n",
    "    print(f\"\\nCluster {cluster} Insights:\")\n",
    "    display(cluster_data.describe())"
   ]
  },
  {
   "cell_type": "code",
   "execution_count": null,
   "id": "a1cd064f-fe7b-4a29-a6a0-3902792df304",
   "metadata": {},
   "outputs": [],
   "source": []
  }
 ],
 "metadata": {
  "kernelspec": {
   "display_name": "Python 3 (ipykernel)",
   "language": "python",
   "name": "python3"
  },
  "language_info": {
   "codemirror_mode": {
    "name": "ipython",
    "version": 3
   },
   "file_extension": ".py",
   "mimetype": "text/x-python",
   "name": "python",
   "nbconvert_exporter": "python",
   "pygments_lexer": "ipython3",
   "version": "3.12.7"
  }
 },
 "nbformat": 4,
 "nbformat_minor": 5
}
